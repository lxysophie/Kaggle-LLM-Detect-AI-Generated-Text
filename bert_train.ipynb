{
 "cells": [
  {
   "cell_type": "code",
   "execution_count": null,
   "metadata": {
    "_cell_guid": "e880a126-7cf9-4244-b636-c7ae2a4aab69",
    "_uuid": "d8ec7f39-345c-42c9-8738-d4b809118eab",
    "execution": {
     "iopub.execute_input": "2024-01-04T19:30:07.264653Z",
     "iopub.status.busy": "2024-01-04T19:30:07.264269Z",
     "iopub.status.idle": "2024-01-04T19:30:07.269408Z",
     "shell.execute_reply": "2024-01-04T19:30:07.268361Z",
     "shell.execute_reply.started": "2024-01-04T19:30:07.264611Z"
    },
    "jupyter": {
     "outputs_hidden": false
    }
   },
   "outputs": [],
   "source": [
    "import transformers\n",
    "import datasets\n",
    "import pandas as pd\n",
    "import numpy as np\n",
    "from datasets import Dataset\n",
    "import os"
   ]
  },
  {
   "cell_type": "code",
   "execution_count": null,
   "metadata": {
    "_cell_guid": "f6efe70b-9a3f-4b6a-bc02-f895406f3e0f",
    "_uuid": "4b04c498-7b03-4cd8-80d4-abb5b83776fa",
    "execution": {
     "iopub.execute_input": "2024-01-04T19:30:07.591288Z",
     "iopub.status.busy": "2024-01-04T19:30:07.591004Z",
     "iopub.status.idle": "2024-01-04T19:30:07.595538Z",
     "shell.execute_reply": "2024-01-04T19:30:07.594611Z",
     "shell.execute_reply.started": "2024-01-04T19:30:07.591261Z"
    },
    "id": "zVvslsfMIrIh",
    "jupyter": {
     "outputs_hidden": false
    }
   },
   "outputs": [],
   "source": [
    "# link：https://www.kaggle.com/datasets/mustafakeser4/distilroberta-base\n",
    "\n",
    "model_checkpoint = \"/kaggle/input/distilroberta-base/distilroberta-base\" #base model"
   ]
  },
  {
   "cell_type": "code",
   "execution_count": null,
   "metadata": {},
   "outputs": [],
   "source": [
    "\n",
    "train0 = pd.read_csv('gendata.csv')"
   ]
  },
  {
   "cell_type": "code",
   "execution_count": null,
   "metadata": {
    "_cell_guid": "6835bc70-e755-46a5-8801-3d3e0058ae91",
    "_uuid": "79f1e139-2e34-410e-a005-91ceb3770436",
    "execution": {
     "iopub.execute_input": "2024-01-04T19:30:12.794082Z",
     "iopub.status.busy": "2024-01-04T19:30:12.793810Z",
     "iopub.status.idle": "2024-01-04T19:30:12.801655Z",
     "shell.execute_reply": "2024-01-04T19:30:12.800687Z",
     "shell.execute_reply.started": "2024-01-04T19:30:12.794060Z"
    },
    "jupyter": {
     "outputs_hidden": false
    }
   },
   "outputs": [],
   "source": [
    "train0.label.value_counts()"
   ]
  },
  {
   "cell_type": "code",
   "execution_count": null,
   "metadata": {
    "_cell_guid": "cbda4e3d-d2ad-40f0-9c52-7f3af2066108",
    "_uuid": "f6556ecf-159a-4a02-8eb2-603c7a50d6ca",
    "execution": {
     "iopub.execute_input": "2024-01-04T19:30:14.485397Z",
     "iopub.status.busy": "2024-01-04T19:30:14.484489Z",
     "iopub.status.idle": "2024-01-04T19:30:15.016584Z",
     "shell.execute_reply": "2024-01-04T19:30:15.015735Z",
     "shell.execute_reply.started": "2024-01-04T19:30:14.485359Z"
    },
    "jupyter": {
     "outputs_hidden": false
    }
   },
   "outputs": [],
   "source": [
    "from sklearn.model_selection import StratifiedKFold\n",
    "sk = StratifiedKFold(n_splits=10,shuffle=True,random_state=42)\n",
    "for i, (tr,val) in enumerate(sk.split(train0,train0.label)):\n",
    "    train = train0.iloc[tr]\n",
    "    valid = train0.iloc[val]\n",
    "    break"
   ]
  },
  {
   "cell_type": "code",
   "execution_count": null,
   "metadata": {
    "_cell_guid": "47e66293-f3e9-4b63-8b8e-6f82b7dbe6e1",
    "_uuid": "1ee03cde-06c4-44a6-bfcc-3df520d49f79",
    "jupyter": {
     "outputs_hidden": false
    }
   },
   "outputs": [],
   "source": [
    "train.text = train.text.fillna(\"\")\n",
    "valid.text = valid.text.apply(lambda x: x.strip('\\n'))\n",
    "train.text = train.text.apply(lambda x: x.strip('\\n'))"
   ]
  },
  {
   "cell_type": "code",
   "execution_count": null,
   "metadata": {
    "_cell_guid": "d991658a-1932-43e4-8707-f0b16953d119",
    "_uuid": "84fa8e6b-a4a3-4c04-94df-611c8c4017a5",
    "execution": {
     "iopub.execute_input": "2024-01-04T19:30:30.421830Z",
     "iopub.status.busy": "2024-01-04T19:30:30.421093Z",
     "iopub.status.idle": "2024-01-04T19:30:30.785949Z",
     "shell.execute_reply": "2024-01-04T19:30:30.785089Z",
     "shell.execute_reply.started": "2024-01-04T19:30:30.421798Z"
    },
    "jupyter": {
     "outputs_hidden": false
    }
   },
   "outputs": [],
   "source": [
    "ds_train = Dataset.from_pandas(train)\n",
    "ds_valid = Dataset.from_pandas(valid)"
   ]
  },
  {
   "cell_type": "code",
   "execution_count": null,
   "metadata": {
    "_cell_guid": "00dd138e-4135-4766-bea1-fc76accc68ef",
    "_uuid": "ae2e2e84-ca88-45f7-9f1e-96ce5aa6eff8",
    "execution": {
     "iopub.execute_input": "2024-01-04T19:30:32.072329Z",
     "iopub.status.busy": "2024-01-04T19:30:32.071981Z",
     "iopub.status.idle": "2024-01-04T19:30:32.608512Z",
     "shell.execute_reply": "2024-01-04T19:30:32.607544Z",
     "shell.execute_reply.started": "2024-01-04T19:30:32.072302Z"
    },
    "id": "eXNLu_-nIrJI",
    "jupyter": {
     "outputs_hidden": false
    }
   },
   "outputs": [],
   "source": [
    "from transformers import AutoTokenizer\n",
    "tokenizer = AutoTokenizer.from_pretrained(model_checkpoint)"
   ]
  },
  {
   "cell_type": "code",
   "execution_count": null,
   "metadata": {
    "_cell_guid": "06ca6bd7-8e70-4f63-8ce4-525d1d8fab80",
    "_uuid": "8700f29a-0b5b-4eb2-a55b-ff3693bfbc80",
    "execution": {
     "iopub.execute_input": "2024-01-04T19:30:33.034560Z",
     "iopub.status.busy": "2024-01-04T19:30:33.034200Z",
     "iopub.status.idle": "2024-01-04T19:31:22.356734Z",
     "shell.execute_reply": "2024-01-04T19:31:22.355668Z",
     "shell.execute_reply.started": "2024-01-04T19:30:33.034530Z"
    },
    "jupyter": {
     "outputs_hidden": false
    }
   },
   "outputs": [],
   "source": [
    "def preprocess_function(examples):\n",
    "    return tokenizer(examples['text'], max_length=128, padding=True, truncation=True)\n",
    "\n",
    "ds_train_enc = ds_train.map(preprocess_function, batched=True)\n",
    "\n",
    "ds_valid_enc = ds_valid.map(preprocess_function, batched=True)"
   ]
  },
  {
   "cell_type": "code",
   "execution_count": null,
   "metadata": {
    "_cell_guid": "b6932bc0-1a68-4e42-bc63-471f5dcbc435",
    "_uuid": "02eb8ed4-ab7a-45b8-9fc9-a531e3236995",
    "execution": {
     "iopub.execute_input": "2024-01-04T19:31:22.358712Z",
     "iopub.status.busy": "2024-01-04T19:31:22.358396Z",
     "iopub.status.idle": "2024-01-04T19:31:41.315449Z",
     "shell.execute_reply": "2024-01-04T19:31:41.314605Z",
     "shell.execute_reply.started": "2024-01-04T19:31:22.358686Z"
    },
    "jupyter": {
     "outputs_hidden": false
    }
   },
   "outputs": [],
   "source": [
    "from transformers import AutoModelForSequenceClassification, TrainingArguments, Trainer\n",
    "\n",
    "num_labels = 2\n",
    "model = AutoModelForSequenceClassification.from_pretrained(model_checkpoint, num_labels=num_labels)\n",
    "\n",
    "import torch\n",
    "\n",
    "device = torch.device(\"cuda:0\" if torch.cuda.is_available() else \"cpu\")\n",
    "# Move your model and data to the GPU\n",
    "model.to(device);\n",
    "\n",
    "from transformers import EarlyStoppingCallback\n",
    "\n",
    "early_stopping = EarlyStoppingCallback(early_stopping_patience=2)\n",
    "\n",
    "num_train_epochs=16.0"
   ]
  },
  {
   "cell_type": "code",
   "execution_count": null,
   "metadata": {
    "_cell_guid": "c96009b7-4256-4707-a5ae-60387cec6445",
    "_uuid": "eab14bbb-0fd2-4080-bcdc-68781c39c6d5",
    "execution": {
     "iopub.execute_input": "2024-01-04T19:31:41.316944Z",
     "iopub.status.busy": "2024-01-04T19:31:41.316657Z",
     "iopub.status.idle": "2024-01-04T19:31:41.324609Z",
     "shell.execute_reply": "2024-01-04T19:31:41.323671Z",
     "shell.execute_reply.started": "2024-01-04T19:31:41.316918Z"
    },
    "id": "Bliy8zgjIrJY",
    "jupyter": {
     "outputs_hidden": false
    }
   },
   "outputs": [],
   "source": [
    "metric_name = \"roc_auc\"\n",
    "model_name = \"distilroberta\"#\"deberta-large\"\n",
    "batch_size = 2\n",
    "\n",
    "args = TrainingArguments(\n",
    "    f\"{model_name}-finetuned_v5\",\n",
    "    evaluation_strategy = \"epoch\",\n",
    "    save_strategy = \"epoch\",\n",
    "    learning_rate=2e-5,\n",
    "    lr_scheduler_type = \"cosine\",\n",
    "    \n",
    "    optim=\"adamw_torch\",\n",
    "    per_device_train_batch_size=batch_size,\n",
    "    per_device_eval_batch_size=batch_size,\n",
    "    gradient_accumulation_steps=8,\n",
    "    num_train_epochs=num_train_epochs,\n",
    "    weight_decay=0.01,\n",
    "    load_best_model_at_end=True,\n",
    "    metric_for_best_model=metric_name,\n",
    "    report_to='none',\n",
    "    save_total_limit=2,\n",
    "    \n",
    ")"
   ]
  },
  {
   "cell_type": "code",
   "execution_count": null,
   "metadata": {
    "_cell_guid": "e6096e5d-2e38-402d-ba8c-9b099940bc4b",
    "_uuid": "e8c41bb6-98df-4d77-bbb0-32a03b20fe6e",
    "execution": {
     "iopub.execute_input": "2024-01-04T19:31:41.327704Z",
     "iopub.status.busy": "2024-01-04T19:31:41.327110Z",
     "iopub.status.idle": "2024-01-04T19:31:41.334852Z",
     "shell.execute_reply": "2024-01-04T19:31:41.334044Z",
     "shell.execute_reply.started": "2024-01-04T19:31:41.327670Z"
    },
    "id": "UmvbnJ9JIrJd",
    "jupyter": {
     "outputs_hidden": false
    }
   },
   "outputs": [],
   "source": [
    "from sklearn.metrics import roc_auc_score\n",
    "\n",
    "def compute_metrics(eval_pred):\n",
    "    logits, labels = eval_pred\n",
    "    probs = np.exp(logits) / np.sum(np.exp(logits), axis=-1, keepdims=True)\n",
    "    auc = roc_auc_score(labels, probs[:,1], multi_class='ovr')\n",
    "    return {\"roc_auc\": auc}"
   ]
  },
  {
   "cell_type": "code",
   "execution_count": null,
   "metadata": {
    "_cell_guid": "1930cd0f-56fa-4458-94eb-bae07c9b29f9",
    "_uuid": "ce9f24da-deef-4527-b765-936611dbfe31",
    "execution": {
     "iopub.execute_input": "2024-01-04T19:31:41.336375Z",
     "iopub.status.busy": "2024-01-04T19:31:41.336022Z",
     "iopub.status.idle": "2024-01-04T19:31:41.353642Z",
     "shell.execute_reply": "2024-01-04T19:31:41.352917Z",
     "shell.execute_reply.started": "2024-01-04T19:31:41.336342Z"
    },
    "id": "imY1oC3SIrJf",
    "jupyter": {
     "outputs_hidden": false
    }
   },
   "outputs": [],
   "source": [
    "trainer = Trainer(\n",
    "    model,\n",
    "    args,\n",
    "    train_dataset=ds_train_enc,\n",
    "    eval_dataset=ds_valid_enc,\n",
    "    tokenizer=tokenizer,\n",
    "    callbacks = [early_stopping],\n",
    "    compute_metrics=compute_metrics\n",
    ")"
   ]
  },
  {
   "cell_type": "code",
   "execution_count": null,
   "metadata": {
    "_cell_guid": "0a4fccb7-cfe4-477b-bbce-cb53e553c6c1",
    "_uuid": "30076938-b9b9-42a7-8bd4-0e1b7c931b0d",
    "execution": {
     "iopub.execute_input": "2024-01-04T19:31:49.228078Z",
     "iopub.status.busy": "2024-01-04T19:31:49.227640Z",
     "iopub.status.idle": "2024-01-04T20:17:38.743865Z",
     "shell.execute_reply": "2024-01-04T20:17:38.742958Z",
     "shell.execute_reply.started": "2024-01-04T19:31:49.228044Z"
    },
    "id": "uNx5pyRlIrJh",
    "jupyter": {
     "outputs_hidden": false
    },
    "outputId": "077e661e-d36c-469b-89b8-7ff7f73541ec",
    "scrolled": true
   },
   "outputs": [],
   "source": [
    "trainer.train()"
   ]
  }
 ],
 "metadata": {
  "kaggle": {
   "accelerator": "gpu",
   "dataSources": [
    {
     "databundleVersionId": 2970755,
     "sourceId": 31779,
     "sourceType": "competition"
    },
    {
     "databundleVersionId": 3712025,
     "sourceId": 35308,
     "sourceType": "competition"
    },
    {
     "databundleVersionId": 4196674,
     "sourceId": 38321,
     "sourceType": "competition"
    },
    {
     "databundleVersionId": 6888007,
     "sourceId": 61542,
     "sourceType": "competition"
    },
    {
     "databundleVersionId": 6870560,
     "sourceId": 63021,
     "sourceType": "competition"
    },
    {
     "datasetId": 3936750,
     "sourceId": 6847931,
     "sourceType": "datasetVersion"
    },
    {
     "datasetId": 3938197,
     "sourceId": 6851361,
     "sourceType": "datasetVersion"
    },
    {
     "datasetId": 3946973,
     "sourceId": 6867914,
     "sourceType": "datasetVersion"
    },
    {
     "datasetId": 3937441,
     "sourceId": 6868189,
     "sourceType": "datasetVersion"
    },
    {
     "datasetId": 3955358,
     "sourceId": 6888403,
     "sourceType": "datasetVersion"
    },
    {
     "datasetId": 3942644,
     "sourceId": 6890527,
     "sourceType": "datasetVersion"
    },
    {
     "datasetId": 3970230,
     "sourceId": 6913172,
     "sourceType": "datasetVersion"
    },
    {
     "datasetId": 3973977,
     "sourceId": 6920799,
     "sourceType": "datasetVersion"
    },
    {
     "datasetId": 3961875,
     "sourceId": 6971638,
     "sourceType": "datasetVersion"
    },
    {
     "datasetId": 4005256,
     "sourceId": 6977472,
     "sourceType": "datasetVersion"
    },
    {
     "datasetId": 3944051,
     "sourceId": 7060310,
     "sourceType": "datasetVersion"
    },
    {
     "datasetId": 4039374,
     "sourceId": 7082713,
     "sourceType": "datasetVersion"
    },
    {
     "datasetId": 4160970,
     "sourceId": 7198015,
     "sourceType": "datasetVersion"
    },
    {
     "datasetId": 4187359,
     "sourceId": 7231713,
     "sourceType": "datasetVersion"
    },
    {
     "datasetId": 4197568,
     "sourceId": 7246053,
     "sourceType": "datasetVersion"
    },
    {
     "datasetId": 4174220,
     "sourceId": 7213625,
     "sourceType": "datasetVersion"
    }
   ],
   "dockerImageVersionId": 30558,
   "isGpuEnabled": true,
   "isInternetEnabled": true,
   "language": "python",
   "sourceType": "notebook"
  },
  "kernelspec": {
   "display_name": "Python 3 (ipykernel)",
   "language": "python",
   "name": "python3"
  },
  "language_info": {
   "codemirror_mode": {
    "name": "ipython",
    "version": 3
   },
   "file_extension": ".py",
   "mimetype": "text/x-python",
   "name": "python",
   "nbconvert_exporter": "python",
   "pygments_lexer": "ipython3",
   "version": "3.9.13"
  }
 },
 "nbformat": 4,
 "nbformat_minor": 4
}
